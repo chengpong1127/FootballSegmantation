{
 "cells": [
  {
   "cell_type": "code",
   "execution_count": 3,
   "metadata": {},
   "outputs": [
    {
     "name": "stdout",
     "output_type": "stream",
     "text": [
      "Loading annotations into memory...\n",
      "Done (t=0.36s)\n",
      "Creating index...\n",
      "index created!\n",
      "Loading annotations into memory...\n",
      "Done (t=0.40s)\n",
      "Creating index...\n",
      "index created!\n",
      "Batch Masks Shape: (1080, 1920)\n",
      "Number of Images: 59\n",
      "Number of Masks: 59\n"
     ]
    }
   ],
   "source": [
    "import os\n",
    "import numpy as np\n",
    "from pycocotools.coco import COCO\n",
    "from pycocotools import mask as maskUtils\n",
    "import matplotlib.pyplot as plt\n",
    "from PIL import Image\n",
    "import yaml\n",
    "\n",
    "annotation_file = 'Football/COCO_Football Pixel.json'\n",
    "image_folder = 'Football/images'\n",
    "image_list_path = 'images_list.yaml'\n",
    "\n",
    "dataset_path = 'Football/dataset'\n",
    "\n",
    "image_list = yaml.load(open(image_list_path, 'r'), Loader=yaml.FullLoader)['images']\n",
    "\n",
    "\n",
    "coco = COCO(annotation_file)\n",
    "\n",
    "\n",
    "cat_id_map = { cat_id: i for i, cat_id in enumerate(coco.getCatIds()) }\n",
    "\n",
    "\n",
    "\n",
    "\n",
    "coco = COCO(annotation_file)\n",
    "\n",
    "image_ids = coco.getImgIds()\n",
    "\n",
    "def load_image(image_id, coco, image_folder):\n",
    "    image_info = coco.loadImgs(image_id)[0]\n",
    "    image_path = os.path.join(image_folder, image_info['file_name'])\n",
    "    image = Image.open(image_path)\n",
    "    return image, image_info\n",
    "\n",
    "def generate_segmentation_mask(image_info, annotations, width, height, coco):\n",
    "    mask = np.zeros((height, width), dtype=np.uint8)\n",
    "    \n",
    "    for annotation in annotations:\n",
    "        category_id = cat_id_map[annotation['category_id']]\n",
    "        rle = coco.annToRLE(annotation)\n",
    "        binary_mask = maskUtils.decode(rle)\n",
    "        mask[binary_mask == 1] = category_id\n",
    "        \n",
    "    return mask\n",
    "\n",
    "batch_images = []\n",
    "batch_masks = []\n",
    "\n",
    "for image_id in image_ids:\n",
    "    image, image_info = load_image(image_id, coco, image_folder)\n",
    "    if image_info['file_name'] not in image_list:\n",
    "        continue\n",
    "    annotation_ids = coco.getAnnIds(imgIds=image_id)\n",
    "    annotations = coco.loadAnns(annotation_ids)\n",
    "    \n",
    "    width, height = image_info['width'], image_info['height']\n",
    "    segmentation_mask = generate_segmentation_mask(image_info, annotations, width, height, coco)\n",
    "    \n",
    "    batch_images.append(image)\n",
    "    batch_masks.append(segmentation_mask)\n",
    "\n",
    "print(\"Batch Masks Shape:\", batch_masks[0].shape)\n",
    "print(\"Number of Images:\", len(batch_images))\n",
    "print(\"Number of Masks:\", len(batch_masks))\n"
   ]
  },
  {
   "cell_type": "code",
   "execution_count": 4,
   "metadata": {},
   "outputs": [
    {
     "data": {
      "application/vnd.jupyter.widget-view+json": {
       "model_id": "5ce57c77d1624bfcb77b5e676a23cbbe",
       "version_major": 2,
       "version_minor": 0
      },
      "text/plain": [
       "Saving the dataset (0/1 shards):   0%|          | 0/59 [00:00<?, ? examples/s]"
      ]
     },
     "metadata": {},
     "output_type": "display_data"
    }
   ],
   "source": [
    "from datasets import Dataset\n",
    "\n",
    "batch_masks = [Image.fromarray(mask, mode='L') for mask in batch_masks]\n",
    "dataset = Dataset.from_dict({\n",
    "    'image': batch_images,\n",
    "    'mask': batch_masks\n",
    "})\n",
    "dataset.save_to_disk(dataset_path)"
   ]
  },
  {
   "cell_type": "code",
   "execution_count": null,
   "metadata": {},
   "outputs": [],
   "source": [
    "\n",
    "def display_image_and_mask_with_filename(image, mask, filename, ax):\n",
    "    ax.imshow(image)\n",
    "    ax.imshow(mask, cmap='jet', alpha=0.5)\n",
    "    ax.axis('off')\n",
    "    ax.set_title(filename, fontsize=12)\n",
    "\n",
    "\n",
    "num_images = 5\n",
    "fig, axes = plt.subplots(num_images, 2, figsize=(12, num_images * 4))\n",
    "\n",
    "for i in range(20):\n",
    "    index = np.random.randint(len(batch_images))\n",
    "    image = batch_images[index]\n",
    "    mask = batch_masks[index]\n",
    "    filename = coco.loadImgs(image_ids[index])[0]['file_name']\n",
    "    \n",
    "    display_image_and_mask_with_filename(image, mask, filename, axes[i, 0])\n",
    "    axes[i, 0].set_title('Image with Mask')\n",
    "    \n",
    "    axes[i, 1].imshow(mask, cmap='jet')\n",
    "    axes[i, 1].set_title('Mask Only')\n",
    "    axes[i, 1].axis('off')\n",
    "    axes[i, 1].set_title(filename, fontsize=12)\n",
    "\n",
    "plt.tight_layout()\n",
    "plt.show()\n"
   ]
  }
 ],
 "metadata": {
  "kernelspec": {
   "display_name": "Python 3",
   "language": "python",
   "name": "python3"
  },
  "language_info": {
   "codemirror_mode": {
    "name": "ipython",
    "version": 3
   },
   "file_extension": ".py",
   "mimetype": "text/x-python",
   "name": "python",
   "nbconvert_exporter": "python",
   "pygments_lexer": "ipython3",
   "version": "3.10.12"
  }
 },
 "nbformat": 4,
 "nbformat_minor": 2
}
