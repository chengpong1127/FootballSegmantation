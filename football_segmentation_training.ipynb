{
 "cells": [
  {
   "cell_type": "code",
   "execution_count": null,
   "metadata": {},
   "outputs": [],
   "source": [
    "import os\n",
    "os.environ['WANDB_NOTEBOOK_NAME'] = 'football_segmentation_training.ipynb'"
   ]
  },
  {
   "cell_type": "code",
   "execution_count": null,
   "metadata": {},
   "outputs": [],
   "source": [
    "from datasets import load_from_disk\n",
    "\n",
    "dataset = load_from_disk(\"Football/dataset\")\n"
   ]
  },
  {
   "cell_type": "code",
   "execution_count": null,
   "metadata": {},
   "outputs": [],
   "source": [
    "from pycocotools.coco import COCO\n",
    "annotation_file = 'Football/COCO_Football Pixel.json'\n",
    "coco = COCO(annotation_file)\n",
    "id2label = { i: v['name'] for i, (_, v) in enumerate(coco.cats.items())}\n",
    "label2id = { v: k for k, v in id2label.items()}\n",
    "id2label"
   ]
  },
  {
   "cell_type": "code",
   "execution_count": null,
   "metadata": {},
   "outputs": [],
   "source": [
    "import numpy as np\n",
    "\n",
    "def freq_weighted_iou(pred, target, class_num):\n",
    "    ious = []\n",
    "    for i in range(class_num):\n",
    "        pred_i = (pred == i)\n",
    "        target_i = (target == i)\n",
    "        intersection = np.sum(pred_i & target_i, axis=(1, 2))\n",
    "        union = np.sum(pred_i | target_i, axis=(1, 2))\n",
    "        iou = (intersection + 1e-6) / (union + 1e-6)\n",
    "        ious.append(iou)\n",
    "    \n",
    "    ious = np.stack(ious, axis=1)\n",
    "    \n",
    "    # Calculate the frequency of each class in the target\n",
    "    freq = np.sum(target == np.arange(class_num)[:, None, None, None], axis=(1, 2, 3))\n",
    "    total_pixels = np.sum(freq)\n",
    "    freq = freq / total_pixels\n",
    "\n",
    "    # Calculate the frequency-weighted IoU\n",
    "    freq_weighted_iou = np.sum(ious * freq, axis=1)\n",
    "    \n",
    "    return freq_weighted_iou.mean()"
   ]
  },
  {
   "cell_type": "code",
   "execution_count": null,
   "metadata": {},
   "outputs": [],
   "source": [
    "from transformers import Trainer, TrainingArguments, AutoModelForSemanticSegmentation, AutoImageProcessor, BeitForSemanticSegmentation\n",
    "import evaluate\n",
    "\n",
    "image_processor = AutoImageProcessor.from_pretrained('microsoft/beit-base-finetuned-ade-640-640')\n",
    "#model = AutoModelForSemanticSegmentation.from_pretrained('microsoft/beit-base-finetuned-ade-640-640', id2label=id2label, label2id=label2id, ignore_mismatched_sizes=True)\n"
   ]
  },
  {
   "cell_type": "code",
   "execution_count": null,
   "metadata": {},
   "outputs": [],
   "source": [
    "split = dataset.train_test_split(test_size=0.1)\n",
    "train_ds, val_ds = split['train'], split['test']\n",
    "print(len(train_ds), len(val_ds))\n",
    "\n",
    "def transforms(example_batch):\n",
    "    images = [x for x in example_batch[\"image\"]]\n",
    "    labels = [x for x in example_batch[\"mask\"]]\n",
    "    inputs = image_processor(images)\n",
    "    inputs['labels'] = np.array(labels, dtype=np.int64)\n",
    "    return inputs\n",
    "\n",
    "train_ds.set_transform(transforms)\n",
    "val_ds.set_transform(transforms)"
   ]
  },
  {
   "cell_type": "code",
   "execution_count": null,
   "metadata": {},
   "outputs": [],
   "source": [
    "id2label"
   ]
  },
  {
   "cell_type": "code",
   "execution_count": null,
   "metadata": {},
   "outputs": [],
   "source": [
    "def compute_weight_in_ds(ds):\n",
    "    freqs = np.zeros(len(id2label))\n",
    "    for i in range(len(ds)):\n",
    "        target = ds[i]['labels']\n",
    "        for i in range(len(id2label)):\n",
    "            freqs[i] += np.sum(target == i)\n",
    "    return freqs\n",
    "\n",
    "class_counts = compute_weight_in_ds(train_ds)\n",
    "class_counts /= len(train_ds)\n",
    "\n",
    "class_counts[class_counts == 0] = 1\n",
    "print(\"Class Counts:\", class_counts)\n",
    "\n",
    "\n",
    "class_weights = train_ds[0]['labels'].shape[0] * train_ds[0]['labels'].shape[1] / class_counts\n",
    "class_weights = np.array([4, 8, 1, 1, 16, 16, 1, 4, 8, 2, 2])\n",
    "print(\"Class Weights (Inverse Frequency):\", class_weights)"
   ]
  },
  {
   "cell_type": "code",
   "execution_count": null,
   "metadata": {},
   "outputs": [],
   "source": [
    "from torch.nn import CrossEntropyLoss\n",
    "import torch\n",
    "import torch.nn as nn\n",
    "weight = torch.tensor(class_weights, device='cuda', dtype=torch.float)\n",
    "\n",
    "class BeitWithWeightedCrossEntropy(BeitForSemanticSegmentation):\n",
    "    def compute_loss(self, logits, auxiliary_logits, labels):\n",
    "        # upsample logits to the images' original size\n",
    "        upsampled_logits = nn.functional.interpolate(\n",
    "            logits, size=labels.shape[-2:], mode=\"bilinear\", align_corners=False\n",
    "        )\n",
    "        if auxiliary_logits is not None:\n",
    "            upsampled_auxiliary_logits = nn.functional.interpolate(\n",
    "                auxiliary_logits, size=labels.shape[-2:], mode=\"bilinear\", align_corners=False\n",
    "            )\n",
    "        # compute weighted loss\n",
    "        loss_fct = CrossEntropyLoss(weight=weight, ignore_index=self.config.semantic_loss_ignore_index)\n",
    "        main_loss = loss_fct(upsampled_logits, labels)\n",
    "        loss = main_loss\n",
    "        if auxiliary_logits is not None:\n",
    "            auxiliary_loss = loss_fct(upsampled_auxiliary_logits, labels)\n",
    "            loss += self.config.auxiliary_loss_weight * auxiliary_loss\n",
    "\n",
    "        return loss\n",
    "\n",
    "model = BeitWithWeightedCrossEntropy.from_pretrained('microsoft/beit-base-finetuned-ade-640-640', id2label=id2label, label2id=label2id, ignore_mismatched_sizes=True)\n"
   ]
  },
  {
   "cell_type": "code",
   "execution_count": null,
   "metadata": {},
   "outputs": [],
   "source": [
    "\n",
    "import torch\n",
    "\n",
    "metric = evaluate.load(\"mean_iou\")\n",
    "\n",
    "def compute_metrics(eval_pred):\n",
    "    with torch.no_grad():\n",
    "        logits, labels = eval_pred\n",
    "        logits_tensor = torch.from_numpy(logits)\n",
    "        logits_tensor = nn.functional.interpolate(\n",
    "            logits_tensor,\n",
    "            size=labels.shape[-2:],\n",
    "            mode=\"bilinear\",\n",
    "            align_corners=False,\n",
    "        ).argmax(dim=1)\n",
    "\n",
    "        pred_labels = logits_tensor.detach().cpu().numpy()\n",
    "        metrics = metric.compute(\n",
    "            predictions=pred_labels,\n",
    "            references=labels,\n",
    "            num_labels=len(id2label),\n",
    "            ignore_index=255,\n",
    "            reduce_labels=False,\n",
    "        )\n",
    "        for key, value in metrics.items():\n",
    "            if isinstance(value, np.ndarray):\n",
    "                metrics[key] = value.tolist()\n",
    "        metrics['freq_weighted_iou'] = freq_weighted_iou(pred_labels, labels, len(id2label))\n",
    "                \n",
    "        return metrics\n",
    "    \n",
    "training_args = TrainingArguments(\n",
    "    output_dir=\"models\",\n",
    "    learning_rate=6e-5,\n",
    "    num_train_epochs=15,\n",
    "    per_device_train_batch_size=4,\n",
    "    per_device_eval_batch_size=4,\n",
    "    save_total_limit=3,\n",
    "    save_strategy=\"steps\",\n",
    "    save_steps=20,\n",
    "    eval_steps=20,\n",
    "    logging_steps=1,\n",
    "    remove_unused_columns=False,\n",
    "    load_best_model_at_end=True,\n",
    "    metric_for_best_model=\"mean_iou\",\n",
    "    evaluation_strategy=\"steps\",\n",
    "    report_to=\"wandb\",\n",
    "    logging_strategy=\"steps\",\n",
    "    log_level=\"error\",\n",
    "    dataloader_drop_last=True,\n",
    ")\n",
    "\n",
    "trainer = Trainer(\n",
    "    model=model,\n",
    "    args=training_args,\n",
    "    train_dataset=train_ds,\n",
    "    eval_dataset=val_ds,\n",
    "    compute_metrics=compute_metrics,\n",
    ")\n"
   ]
  },
  {
   "cell_type": "code",
   "execution_count": null,
   "metadata": {},
   "outputs": [],
   "source": [
    "trainer.train()"
   ]
  },
  {
   "cell_type": "code",
   "execution_count": null,
   "metadata": {},
   "outputs": [],
   "source": [
    "import wandb\n",
    "wandb.finish()"
   ]
  }
 ],
 "metadata": {
  "kernelspec": {
   "display_name": "Python 3",
   "language": "python",
   "name": "python3"
  },
  "language_info": {
   "codemirror_mode": {
    "name": "ipython",
    "version": 3
   },
   "file_extension": ".py",
   "mimetype": "text/x-python",
   "name": "python",
   "nbconvert_exporter": "python",
   "pygments_lexer": "ipython3",
   "version": "3.10.12"
  }
 },
 "nbformat": 4,
 "nbformat_minor": 2
}
